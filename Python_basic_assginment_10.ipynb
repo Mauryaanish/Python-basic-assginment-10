{
  "nbformat": 4,
  "nbformat_minor": 0,
  "metadata": {
    "colab": {
      "provenance": []
    },
    "kernelspec": {
      "name": "python3",
      "display_name": "Python 3"
    },
    "language_info": {
      "name": "python"
    }
  },
  "cells": [
    {
      "cell_type": "markdown",
      "source": [
        "## 1. How do you distinguish between shutil.copy() and shutil.copytree()?\n",
        "\n",
        "Answer:- The shutil.copy() function will copy a single file, while shutil.copytree() will copy an entire folder, along with all its contents.\n",
        "\n"
      ],
      "metadata": {
        "id": "E-JGF3l7dTNY"
      }
    },
    {
      "cell_type": "code",
      "source": [],
      "metadata": {
        "id": "5F6EmdiRd6eK"
      },
      "execution_count": null,
      "outputs": []
    },
    {
      "cell_type": "markdown",
      "source": [
        "## 2. What function is used to rename files??\n",
        "\n",
        "Answer:- The shutil.move() function is used for renaming files, as well as moving them\n",
        "\n"
      ],
      "metadata": {
        "id": "3bPy_cOGd6_q"
      }
    },
    {
      "cell_type": "code",
      "source": [],
      "metadata": {
        "id": "aWaMmu4SeAJi"
      },
      "execution_count": null,
      "outputs": []
    },
    {
      "cell_type": "markdown",
      "source": [
        "## 3. What is the difference between the delete functions in the send2trash and shutil modules?\n",
        "\n",
        "Answer:- The send2trash functions will move a file or folder to the recycle bin, while shutil functions will permanently delete files and folders."
      ],
      "metadata": {
        "id": "I5BsnjpOeAjR"
      }
    },
    {
      "cell_type": "code",
      "source": [],
      "metadata": {
        "id": "rFiuoPRTeKgy"
      },
      "execution_count": null,
      "outputs": []
    },
    {
      "cell_type": "markdown",
      "source": [
        "## 4.ZipFile objects have a close() method just like File objects’ close() method. What ZipFile method is\n",
        "equivalent to File objects’ open() method?\n",
        "\n",
        "Answer:- The zipfile.ZipFile() function is equivalent to the open() function; the first argument is the filename, and the second argument is the mode to open the ZIP file in (read, write, or append)."
      ],
      "metadata": {
        "id": "eAHQgR6qeLNp"
      }
    },
    {
      "cell_type": "code",
      "source": [],
      "metadata": {
        "id": "xHg-lAjCeSpy"
      },
      "execution_count": null,
      "outputs": []
    },
    {
      "cell_type": "code",
      "source": [],
      "metadata": {
        "id": "I8i6Lsrwek-x"
      },
      "execution_count": null,
      "outputs": []
    }
  ]
}